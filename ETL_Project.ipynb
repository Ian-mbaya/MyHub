{
  "nbformat": 4,
  "nbformat_minor": 0,
  "metadata": {
    "colab": {
      "provenance": [],
      "authorship_tag": "ABX9TyMQUWvavGRPCkW4tbjndxUZ",
      "include_colab_link": true
    },
    "kernelspec": {
      "name": "python3",
      "display_name": "Python 3"
    },
    "language_info": {
      "name": "python"
    }
  },
  "cells": [
    {
      "cell_type": "markdown",
      "metadata": {
        "id": "view-in-github",
        "colab_type": "text"
      },
      "source": [
        "<a href=\"https://colab.research.google.com/github/Ian-mbaya/MyHub/blob/main/ETL_Project.ipynb\" target=\"_parent\"><img src=\"https://colab.research.google.com/assets/colab-badge.svg\" alt=\"Open In Colab\"/></a>"
      ]
    },
    {
      "cell_type": "markdown",
      "source": [
        "## Importing Functions & Modules"
      ],
      "metadata": {
        "id": "4osTxgYhStKj"
      }
    },
    {
      "cell_type": "code",
      "execution_count": null,
      "metadata": {
        "id": "VK7vTjgtQbYH"
      },
      "outputs": [],
      "source": [
        "\n",
        "import pandas as pd\n",
        "import numpy as np\n",
        "import sqlite3\n",
        "#Connect DATABASE AND load cursor\n",
        "cn = sqlite3.connect('MYDB')\n",
        "cr = cn.cursor()\n",
        "\n",
        "import glob #match files or folders\n",
        "import xml.etree.ElementTree as ET #Parse and Create XML\n",
        "\n",
        "import matplotlib.pyplot as plt\n",
        "\n"
      ]
    },
    {
      "cell_type": "code",
      "source": [
        "#Mount Google Drive\n",
        "from google.colab import drive\n",
        "drive.mount('/content/gdrive')"
      ],
      "metadata": {
        "colab": {
          "base_uri": "https://localhost:8080/"
        },
        "id": "nrQdY-H8wFxW",
        "outputId": "9571a169-15dd-4d6d-acff-3f05cb9880b8"
      },
      "execution_count": null,
      "outputs": [
        {
          "output_type": "stream",
          "name": "stdout",
          "text": [
            "Drive already mounted at /content/gdrive; to attempt to forcibly remount, call drive.mount(\"/content/gdrive\", force_remount=True).\n"
          ]
        }
      ]
    },
    {
      "cell_type": "code",
      "source": [
        "#Set paths\n",
        "csvfile = 'https://raw.githubusercontent.com/Ian-mbaya/HotelWebsite/master/cars.csv'\n",
        "jsonfile = 'https://raw.githubusercontent.com/Ian-mbaya/HotelWebsite/master/cars.json'\n",
        "xmlfile = 'https://raw.githubusercontent.com/Ian-mbaya/HotelWebsite/master/cars.xml'\n",
        "logfile = 'https://raw.githubusercontent.com/Ian-mbaya/HotelWebsite/master/.text'\n",
        "targetfile = 'https://raw.githubusercontent.com/Ian-mbaya/HotelWebsite/master/transformed.csv'"
      ],
      "metadata": {
        "id": "WLElrWv-w6C1"
      },
      "execution_count": null,
      "outputs": []
    },
    {
      "cell_type": "markdown",
      "source": [
        "##Question 1\n",
        "###Method to extact & append Data to a Dataframe"
      ],
      "metadata": {
        "id": "1IIPkY2TSNt-"
      }
    },
    {
      "cell_type": "code",
      "source": [
        "#Extract CSV\n",
        "def extract_from_csv(csvfile):\n",
        "  data = pd.read_csv(csvfile) \n",
        "  return data"
      ],
      "metadata": {
        "id": "09UjuD72SzcC"
      },
      "execution_count": null,
      "outputs": []
    },
    {
      "cell_type": "code",
      "source": [
        "#Extract JSON\n",
        "def extract_from_json(xmlfile):\n",
        "    data = pd.read_json(jsonfile, lines=True)\n",
        "    return data"
      ],
      "metadata": {
        "id": "O2zPjEWTUYK8"
      },
      "execution_count": null,
      "outputs": []
    },
    {
      "cell_type": "code",
      "source": [
        "#Extract XML\n",
        "def extract_from_xml(file_to_process):\n",
        "\n",
        "    data = pd.DataFrame(columns=['car_model','year_of_manufacture','price', 'fuel'])\n",
        "\n",
        "    tree = ET.parse(file_to_process) \n",
        "\n",
        "    root = tree.getroot() \n",
        "\n",
        "    for person in root: \n",
        "\n",
        "        car_model = person.find(\"car_model\").text \n",
        "\n",
        "        year_of_manufacture = int(person.find(\"year_of_manufacture\").text)\n",
        "        price = float(person.find(\"price\").text) \n",
        "\n",
        "        fuel = person.find(\"fuel\").text \n",
        "\n",
        "        dataframe = dataframe.append({\"car_model\":car_model, \"year_of_manufacture\":year_of_manufacture, \"price\":price, \"fuel\":fuel}, ignore_index=True) \n",
        "\n",
        "        return data\n",
        "\n",
        "    "
      ],
      "metadata": {
        "id": "4ULt1S-1Udx_"
      },
      "execution_count": null,
      "outputs": []
    },
    {
      "cell_type": "code",
      "source": [
        "def extract():\n",
        "    data = pd.DataFrame(columns=['car_model','year_of_manufacture','price', 'fuel']) \n",
        "  \n",
        "    for csvfile in glob.glob(\"/con/content/gdrive/MyDrive/CIS660/car-data/*.csv\"):\n",
        "          data = data.append(extract_from_csv(csvfile), ignore_index=True)\n",
        "    \n",
        "    for jsonfile in glob.glob(\"/con/content/gdrive/MyDrive/CIS660/car-data/*.json\"):\n",
        "          data = data.append(extract_from_json(jsonfile), ignore_index=True)\n",
        "\n",
        "    for xmlfile in glob.glob(\"'/con/content/gdrive/MyDrive/CIS660/car-data/*.xml\"):\n",
        "          data =data.append(extract_from_xml(xmlfile), ignore_index=True)\n",
        "    return data"
      ],
      "metadata": {
        "id": "so3viIULWqKi"
      },
      "execution_count": null,
      "outputs": []
    },
    {
      "cell_type": "markdown",
      "source": [
        "##Question 2\n",
        "###Data Transformation\n"
      ],
      "metadata": {
        "id": "pbyi-xj0Vpab"
      }
    },
    {
      "cell_type": "code",
      "source": [
        "def transform(data):\n",
        "      #Change Model into Upper Case\n",
        "       data['car_model'].str.upper()\n",
        "       #Round Price to two decimal places\n",
        "       data['price'] = round(data.price, 2)\n",
        "       #Converts fuel type to A to a categorical variable\n",
        "       data['team'] = pd.factorize(data['team'])[0]\n",
        "       #Adds the age of the car\n",
        "       car_age = 2022 - data['year_of_manufacture']\n",
        "       data.insert(1, 'Car_age', car_age)\n",
        "       return data\n",
        "  "
      ],
      "metadata": {
        "id": "b6wy82h7V770"
      },
      "execution_count": null,
      "outputs": []
    },
    {
      "cell_type": "markdown",
      "source": [
        "##Question 3\n",
        "###Load data in to sqlite\n"
      ],
      "metadata": {
        "id": "dvvsMEhNfzKj"
      }
    },
    {
      "cell_type": "code",
      "source": [
        "#Create Table \n",
        "cr.execute(\n",
        "    '''CREATE TABLE MyCars\n",
        "    (\n",
        "      model text,\n",
        "      year real,\n",
        "      price real, \n",
        "      fuel int,\n",
        "      age int)\n",
        "    ''')"
      ],
      "metadata": {
        "colab": {
          "base_uri": "https://localhost:8080/"
        },
        "id": "ZaGMk06OhHor",
        "outputId": "c65b759a-7930-414c-f5c7-f17aafe0ce1b"
      },
      "execution_count": null,
      "outputs": [
        {
          "output_type": "execute_result",
          "data": {
            "text/plain": [
              "<sqlite3.Cursor at 0x7f8bcbfa0880>"
            ]
          },
          "metadata": {},
          "execution_count": 135
        }
      ]
    },
    {
      "cell_type": "code",
      "source": [
        "#Insert into SQLITE\n",
        "df.to_sql('MyCars', cn, if_exists='replace', index=False)\n",
        "cn.commit()\n",
        "cn.close()"
      ],
      "metadata": {
        "id": "NR8iThEOiSoE"
      },
      "execution_count": null,
      "outputs": []
    },
    {
      "cell_type": "markdown",
      "source": [
        "##Question 4\n",
        "###Data Analysis and Ploting"
      ],
      "metadata": {
        "id": "NETtbh53j5W9"
      }
    },
    {
      "cell_type": "code",
      "source": [
        "#graph for The number of cars manufactured in each  year\n",
        "plt.plot(year, manufactured)\n",
        "plt.xlabel('Year of Manufacture')\n",
        "plt.ylabel('Number of Cars')\n"
      ],
      "metadata": {
        "colab": {
          "base_uri": "https://localhost:8080/",
          "height": 296
        },
        "id": "GTdnnJfGl0Sl",
        "outputId": "ff41e8d5-925f-4887-eec7-a4510465a4e0"
      },
      "execution_count": null,
      "outputs": [
        {
          "output_type": "execute_result",
          "data": {
            "text/plain": [
              "Text(0, 0.5, 'Number of Cars')"
            ]
          },
          "metadata": {},
          "execution_count": 172
        },
        {
          "output_type": "display_data",
          "data": {
            "text/plain": [
              "<Figure size 432x288 with 1 Axes>"
            ],
            "image/png": "[encoded data removed]"
          },
          "metadata": {
            "needs_background": "light"
          }
        }
      ]
    },
    {
      "cell_type": "code",
      "source": [
        "#Histogram\n",
        "plt.xlabel('Used Car prices Histogram')\n",
        "plt.hist(df['price'], rwidth=0.9, bins=5)\n",
        "plt.show()\n"
      ],
      "metadata": {
        "colab": {
          "base_uri": "https://localhost:8080/",
          "height": 279
        },
        "id": "_EDR_Sylm3NN",
        "outputId": "043b117c-d670-473d-892a-edb0c4833b05"
      },
      "execution_count": null,
      "outputs": [
        {
          "output_type": "display_data",
          "data": {
            "text/plain": [
              "<Figure size 432x288 with 1 Axes>"
            ],
            "image/png": "[encoded data removed]"
          },
          "metadata": {
            "needs_background": "light"
          }
        }
      ]
    },
    {
      "cell_type": "code",
      "source": [
        "#Piechart\n",
        "plt.title(, loc='left', color='r')\n",
        "plt.pie(count'Used Car Fuel Types', labels=fueltypes,  radius=1.5, autopct='%.1f%%')\n",
        "plt.show()"
      ],
      "metadata": {
        "colab": {
          "base_uri": "https://localhost:8080/",
          "height": 130
        },
        "id": "at5Gc7aVqt0-",
        "outputId": "66045758-2404-4641-d11e-dd6f236de4cc"
      },
      "execution_count": 1,
      "outputs": [
        {
          "output_type": "error",
          "ename": "SyntaxError",
          "evalue": "ignored",
          "traceback": [
            "\u001b[0;36m  File \u001b[0;32m\"<ipython-input-1-1ef92274a7ce>\"\u001b[0;36m, line \u001b[0;32m2\u001b[0m\n\u001b[0;31m    plt.title(, loc='left', color='r')\u001b[0m\n\u001b[0m              ^\u001b[0m\n\u001b[0;31mSyntaxError\u001b[0m\u001b[0;31m:\u001b[0m invalid syntax\n"
          ]
        }
      ]
    },
    {
      "cell_type": "markdown",
      "source": [
        "\n",
        "##Question 5\n",
        "###Log Phase\n"
      ],
      "metadata": {
        "id": "cOrOtbq5dDLI"
      }
    },
    {
      "cell_type": "code",
      "source": [
        "#Loading\n",
        "def load(targetfile, data):\n",
        "    data.to_csv(data)"
      ],
      "metadata": {
        "id": "NNWE0mo1d62H"
      },
      "execution_count": null,
      "outputs": []
    },
    {
      "cell_type": "code",
      "source": [
        "#Logging\n",
        "def log(message):\n",
        "    timestamp_format = '%H:%M:%S-%h-%d-%Y'\n",
        "    #Hour-Minute-Second-MonthName-Day-Year\n",
        "    now = datetime.now() # get current timestamp\n",
        "    timestamp = now.strftime(timestamp_format)\n",
        "    with open(\"logfile.txt\",\"a\") as f: f.write(timestamp + ',' + message + 'n')"
      ],
      "metadata": {
        "id": "qD-fNOI_diVQ"
      },
      "execution_count": null,
      "outputs": []
    }
  ]
}